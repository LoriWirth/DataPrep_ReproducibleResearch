{
 "cells": [
  {
   "cell_type": "code",
   "execution_count": null,
   "metadata": {
    "collapsed": true
   },
   "outputs": [],
   "source": [
    "def getStartIndexSASinput(txtfilename):\n",
    "    '''eg.txtfilename=\"read.txt\"\n",
    "        getVarNamefromSASinput(txtfilename)\"'''\n",
    "    data=open(txtfilename).read()\n",
    "    data=data.split(sep=\"@\")\n",
    "    start0=[]\n",
    "    start1=[]\n",
    "    start=[]\n",
    "    for i in range(len(data[1:])):\n",
    "        start0.append(data[1:][i][1:4]) \n",
    "    for i in range(len(start0)):\n",
    "        start1.append(start0[i].split(\" \"))\n",
    "    for i in range(len(start1)):\n",
    "        start.append(start1[i][0])\n",
    "    start=str(tuple(start))\n",
    "    start=start.replace(\"(\",\"\")\n",
    "    start=start.replace(\")\",\"\")\n",
    "    return start"
   ]
  },
  {
   "cell_type": "code",
   "execution_count": null,
   "metadata": {
    "collapsed": true
   },
   "outputs": [],
   "source": [
    "def getVarNamefromSASinput(txtfilename):\n",
    "    '''eg.txtfilename=\"read.txt\"\n",
    "        getVarNamefromSASinput(txtfilename)\"'''\n",
    "    data=open(txtfilename).read()\n",
    "    data=data.split(sep=\"@\")\n",
    "    #Extract variable name from the SAS input code and dump into a list called newdata\n",
    "    newdata=[]\n",
    "    for i in range(len(data)):\n",
    "        i=i+1\n",
    "        if i==135:\n",
    "            break\n",
    "        newdata.append(data[i][0+3:data[i].find(\"$\")-1])\n",
    "        # remove leadiing numbers before names\n",
    "    newdata1=[]\n",
    "    for i in range(len(newdata)):\n",
    "        if i>1:\n",
    "            newdata1.append(newdata[i][newdata[i].find(\" \"):])\n",
    "        else:\n",
    "            newdata1.append(newdata[i])\n",
    "            # remove leading/trailing zeros, leaving a list of variable names\n",
    "    names=[]\n",
    "    for i in newdata1:\n",
    "        names.append(i.strip())\n",
    "    names=tuple(names)\n",
    "    names=str(names)\n",
    "    names=names.replace(\"(\",\"\")\n",
    "    names=names.replace(\")\",\"\")\n",
    "    return names    "
   ]
  },
  {
   "cell_type": "code",
   "execution_count": null,
   "metadata": {
    "collapsed": true
   },
   "outputs": [],
   "source": [
    "def getVarWidthfromSASinput(txtfilename):\n",
    "    '''eg.txtfilename=\"read.txt\n",
    "        getVarNamefromSASinput(txtfilename)\"'''\n",
    "    data=open(txtfilename).read()\n",
    "    data=data.split(sep=\"@\")\n",
    "    new=[]\n",
    "    data1=[]\n",
    "    for i in range(len(data)):\n",
    "        if i>0:\n",
    "            new.append(data[i][data[i].find(\"char\"):data[i].find(\".\")])\n",
    "    for i in range(len(new)):\n",
    "        data1.append(new[i][new[i].find(\"r\")+1:])\n",
    "    data1=tuple(data1)\n",
    "    data1=str(data1)\n",
    "    data1=data1.replace(\"(\",\"\")\n",
    "    data1=data1.replace(\")\",\"\")\n",
    "    return data1"
   ]
  },
  {
   "cell_type": "code",
   "execution_count": null,
   "metadata": {
    "collapsed": false
   },
   "outputs": [],
   "source": [
    "txtfilename=\"read.txt\"\n",
    "start=getStartIndexSASinput(txtfilename)\n",
    "names=getVarNamefromSASinput(txtfilename)\n",
    "width=getVarWidthfromSASinput(txtfilename)\n",
    "with open(\"D:/Projects/Machine Leaning Predicting BC survivability/name.txt\",\"w\") as output_file:\n",
    "    \n",
    "    output_file.write(names)\n",
    "with open(\"D:/Projects/Machine Leaning Predicting BC survivability/width.txt\",\"w\") as output_file:\n",
    "    output_file.write(width)\n",
    "with open(\"D:/Projects/Machine Leaning Predicting BC survivability/start.txt\",\"w\") as output_file:\n",
    "    output_file.write(start)"
   ]
  }
 ],
 "metadata": {
  "anaconda-cloud": {},
  "kernelspec": {
   "display_name": "Python [conda root]",
   "language": "python",
   "name": "conda-root-py"
  },
  "language_info": {
   "codemirror_mode": {
    "name": "ipython",
    "version": 3
   },
   "file_extension": ".py",
   "mimetype": "text/x-python",
   "name": "python",
   "nbconvert_exporter": "python",
   "pygments_lexer": "ipython3",
   "version": "3.5.2"
  }
 },
 "nbformat": 4,
 "nbformat_minor": 1
}
