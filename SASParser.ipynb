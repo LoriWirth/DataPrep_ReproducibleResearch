{
 "cells": [
  {
   "cell_type": "code",
   "execution_count": 115,
   "metadata": {
    "collapsed": false,
    "scrolled": true
   },
   "outputs": [],
   "source": [
    "def SAS_Program(filename):\n",
    "    '''eg. SAS_Program('SASbreast.txt')'''\n",
    "    data=open(filename).read()\n",
    "    data=data.split(sep=\"@\")\n",
    "    # Extract variable name from the SAS input code and dump into a list called newdata\n",
    "    newdata=[]\n",
    "    for i in range(len(data)):\n",
    "        i=i+1\n",
    "        if i==len(data):\n",
    "            break\n",
    "        newdata.append(data[i][0+3:data[i].find(\"$\")-1])\n",
    "    # Extract variable name from the SAS input code and dump into a list called newdata\n",
    "    newdata=[]\n",
    "    for i in range(len(data)):\n",
    "        i=i+1\n",
    "        if i==len(data):\n",
    "            break\n",
    "        newdata.append(data[i][0+3:data[i].find(\"$\")-1])\n",
    "    # remove leading/trailing zeros, leaving a list of variable names\n",
    "    names=[]\n",
    "    for i in newdata1:\n",
    "        names.append(i.strip())\n",
    "    names=tuple(names)\n",
    "\n",
    "    # \"\"\"\n",
    "    #         Not sure if these are needed. When I imported the output of\n",
    "    #         this function into R, some of the vars had the quotes oddly placed\n",
    "\n",
    "    # \"\"\"\n",
    "    # names=str(names)\n",
    "    # names=names.replace(\"(\",\"\")\n",
    "    # names=names.replace(\")\",\"\")\n",
    "\n",
    "\n",
    "    # Get Beginning Index Postion of Variable (Phyton based indexing)\n",
    "    start0=[]\n",
    "    start1=[]\n",
    "    start=[]\n",
    "    for i in range(len(data[1:])):\n",
    "        start0.append(data[1:][i][1:4]) \n",
    "    for i in range(len(start0)):\n",
    "        start1.append(start0[i].split(\" \"))\n",
    "    for i in range(len(start1)):\n",
    "        start.append(int(start1[i][0])-1)\n",
    "\n",
    "    # Get Width of variable\n",
    "    new=[]\n",
    "    width=[]\n",
    "    end=[]\n",
    "    for i in range(len(data)):\n",
    "        if i>0:\n",
    "            new.append(data[i][data[i].find(\"char\"):data[i].find(\".\")]) #This line would limit code to character data\n",
    "    for i in range(len(new)):\n",
    "        width.append(int(new[i][new[i].find(\"r\")+1:]))\n",
    "        end.append(start[i]+width[i])\n",
    "    # Outputs a list called Columns as such: [('VarName1', (StartPosVar1,EndPosVar1)), ('VarName2', (StartPosVar2,EndPosVar2)),... ]\n",
    "    columns=[]\n",
    "    for i in range(len(names)):\n",
    "        columns.append(tuple( [ names[i], tuple( [start[i], end[i]] ) ] ))\n",
    "    return columns"
   ]
  }
 ],
 "metadata": {
  "anaconda-cloud": {},
  "kernelspec": {
   "display_name": "Python [conda root]",
   "language": "python",
   "name": "conda-root-py"
  },
  "language_info": {
   "codemirror_mode": {
    "name": "ipython",
    "version": 3
   },
   "file_extension": ".py",
   "mimetype": "text/x-python",
   "name": "python",
   "nbconvert_exporter": "python",
   "pygments_lexer": "ipython3",
   "version": "3.5.2"
  }
 },
 "nbformat": 4,
 "nbformat_minor": 1
}
